{
 "cells": [
  {
   "cell_type": "code",
   "execution_count": 1,
   "metadata": {},
   "outputs": [
    {
     "name": "stdout",
     "output_type": "stream",
     "text": [
      "2.0.0\n",
      "3.1.3\n",
      "1.0.3\n",
      "4.2.0\n",
      "0.17.2\n",
      "1.18.1\n",
      "2.0.0\n",
      "0.17.2\n"
     ]
    }
   ],
   "source": [
    "import tensorflow as tf\n",
    "import matplotlib as plt\n",
    "import pandas as pd\n",
    "import cv2 as cv\n",
    "import skimage \n",
    "import numpy as np\n",
    "import skimage as ski\n",
    "#import face_recognition as fr\n",
    "\n",
    "print(tf.__version__)\n",
    "print(plt.__version__)\n",
    "print(pd.__version__)\n",
    "print(cv.__version__)\n",
    "print(skimage.__version__)\n",
    "print(np.__version__)\n",
    "print(tf.__version__)\n",
    "print(ski.__version__)\n",
    "#pritn(fr.__version__)"
   ]
  },
  {
   "cell_type": "code",
   "execution_count": null,
   "metadata": {},
   "outputs": [],
   "source": []
  },
  {
   "cell_type": "code",
   "execution_count": null,
   "metadata": {},
   "outputs": [],
   "source": []
  }
 ],
 "metadata": {
  "kernelspec": {
   "display_name": "Python 3.7 (tensorflow)",
   "language": "python",
   "name": "tensorflow"
  },
  "language_info": {
   "codemirror_mode": {
    "name": "ipython",
    "version": 3
   },
   "file_extension": ".py",
   "mimetype": "text/x-python",
   "name": "python",
   "nbconvert_exporter": "python",
   "pygments_lexer": "ipython3",
   "version": "3.7.7"
  }
 },
 "nbformat": 4,
 "nbformat_minor": 4
}
