{
 "cells": [
  {
   "cell_type": "code",
   "execution_count": 3,
   "metadata": {},
   "outputs": [],
   "source": [
    "import cv2 as cv\n",
    "import numpy as np\n",
    "face_cascade = cv.CascadeClassifier(\"cascades/data/haarcascade_smile\")\n",
    "recognoizer = cv.face.LBPHFaceRecognizer_create()\n",
    "\n",
    "capture_img = cv.VideoCapture(0)\n",
    "\n",
    "while True:\n",
    "     \n",
    "        ret,frame = capture_img.read()\n",
    "        \n",
    "        vid_hsv= cv.cvtColor(frame,cv.COLOR_BGR2GRAY)\n",
    "        \n",
    "        \n",
    "        \n",
    "        cv.imshow('Corona Face Mask Detection',frame)\n",
    "        \n",
    "        if cv.waitKey(20) & 0xFF == ord('q'):\n",
    "            break\n",
    "capture_img.release()\n",
    "cv.destroyAllWindows()"
   ]
  },
  {
   "cell_type": "code",
   "execution_count": null,
   "metadata": {},
   "outputs": [],
   "source": []
  }
 ],
 "metadata": {
  "kernelspec": {
   "display_name": "Python 3.7 (tensorflow)",
   "language": "python",
   "name": "tensorflow"
  },
  "language_info": {
   "codemirror_mode": {
    "name": "ipython",
    "version": 3
   },
   "file_extension": ".py",
   "mimetype": "text/x-python",
   "name": "python",
   "nbconvert_exporter": "python",
   "pygments_lexer": "ipython3",
   "version": "3.7.7"
  }
 },
 "nbformat": 4,
 "nbformat_minor": 4
}
