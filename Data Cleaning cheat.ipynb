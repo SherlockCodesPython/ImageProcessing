{
 "cells": [
  {
   "cell_type": "markdown",
   "metadata": {},
   "source": [
    "# ###Data cleaning codes"
   ]
  },
  {
   "cell_type": "markdown",
   "metadata": {},
   "source": [
    "descriptive analysis"
   ]
  },
  {
   "cell_type": "code",
   "execution_count": null,
   "metadata": {},
   "outputs": [],
   "source": [
    "#df.head()\n",
    "#df.tail()\n",
    "#data_raw.shape\n",
    "#df.describe()\n",
    "#df.describe(include='all') will show the result for all features categorical data as well \n",
    "\n",
    "##show all column data \n",
    "#pd.set_option('display.max_rows', None)\n",
    "\n"
   ]
  },
  {
   "cell_type": "markdown",
   "metadata": {},
   "source": [
    "Dropping data "
   ]
  },
  {
   "cell_type": "code",
   "execution_count": null,
   "metadata": {
    "collapsed": true
   },
   "outputs": [],
   "source": [
    "#df=df.drop('Feature',axis=1) will drop the full column \n",
    "#df=df.dropna(axis=0,inplace=True) will drop all the null values and corresponding row"
   ]
  },
  {
   "cell_type": "markdown",
   "metadata": {},
   "source": [
    "Know your features"
   ]
  },
  {
   "cell_type": "code",
   "execution_count": null,
   "metadata": {},
   "outputs": [],
   "source": [
    "#df.columns.values print all columns \n",
    "#df.info() will show all the data types of the featurs \n",
    "#df.dtypes\n",
    "#object_columns_df = df.select_dtypes(include=['object','bool']) will show the object column\n",
    "#numerical_columns_df =df.select_dtypes(exclude=['object']) will show the numerical column\n",
    "#df['Feature].unique()  will show the diifferent entity for a feature "
   ]
  },
  {
   "cell_type": "markdown",
   "metadata": {},
   "source": [
    "Finding nul value "
   ]
  },
  {
   "cell_type": "code",
   "execution_count": null,
   "metadata": {},
   "outputs": [],
   "source": [
    "#df.isnull().sum() will show the count of null values per features \n",
    "#df.isnull().sum()>0 will show null as true false \n",
    "\n",
    "#total = df.isnull().sum().sort_values(ascending=False)\n",
    "#percent = (df.isnull().sum()/df.isnull().count()).sort_values(ascending=False)\n",
    "#missing_data = pd.concat([total, percent], axis=1, keys=['Total', 'Percent'])"
   ]
  },
  {
   "cell_type": "markdown",
   "metadata": {},
   "source": [
    "Concat datas "
   ]
  },
  {
   "cell_type": "code",
   "execution_count": null,
   "metadata": {},
   "outputs": [],
   "source": [
    "#df = pd.concat([df1, df2], axis=0,sort=False)"
   ]
  },
  {
   "cell_type": "markdown",
   "metadata": {},
   "source": [
    "Data visualization "
   ]
  },
  {
   "cell_type": "code",
   "execution_count": null,
   "metadata": {},
   "outputs": [],
   "source": [
    "##simple scatter plot \n",
    "#data.plot.scatter(x='Feature', y='Feature', ylim=(0,800000));\n",
    "\n",
    "#plt.scatter(data['Longitude'],data['Latitude'])\n",
    "#plt.xlim(-180,180)\n",
    "#plt.ylim(-90,90)\n",
    "#plt.show()\n",
    "\n",
    "##scatter plot with heat density \n",
    "#plt.scatter(y_test,y_hat_test,alpha=0.2)\n",
    "\n",
    "##sub scatter plot \n",
    "\n",
    "#fig,(ax1,ax2,ax3)=plt.subplots(1,3,sharey=True,figsize=(15,4))\n",
    "#ax1.scatter(data_cleaned['Year'],data_cleaned['Price'])\n",
    "#ax1.set_title('Price and Year')\n",
    "#ax2.scatter(data_cleaned['EngineV'],data_cleaned['Price'])\n",
    "#ax2.set_title('EngineV and Year')\n",
    "#ax3.scatter(data_cleaned['Mileage'],data_cleaned['Price'])\n",
    "#ax3.set_title('Mileage and Year')\n",
    "#plt.show()\n",
    "\n",
    "\n",
    "\n"
   ]
  },
  {
   "cell_type": "markdown",
   "metadata": {},
   "source": [
    "The magical Seaborn "
   ]
  },
  {
   "cell_type": "code",
   "execution_count": null,
   "metadata": {},
   "outputs": [],
   "source": [
    "#will show the null values \n",
    "#sns.heatmap(data_raw.isnull(),yticklabels=False,cbar=False)\n",
    "\n",
    "#sns.distplot(df['Feature']) will show the distru=ibution of the data \n",
    "\n",
    "#Box plot \n",
    "#f, ax = plt.subplots(figsize=(8, 6))\n",
    "#fig = sns.boxplot(x='Feature', y=\"Feature\", data=df)\n",
    "#fig.axis(ymin=0, ymax=800000);\n",
    "\n",
    "#Correlation matrics \n",
    "\n",
    "#corrmat = df.corr()\n",
    "#f, ax = plt.subplots(figsize=(12, 9))\n",
    "#sns.heatmap(corrmat, vmax=.8, square=True);\n",
    "\n",
    "#pair plot\n",
    "\n",
    "#sns.pairplot(df)\n",
    "#sns.set()\n",
    "#cols = ['SalePrice', 'OverallQual', 'GrLivArea', 'GarageCars', 'TotalBsmtSF', 'FullBath', 'YearBuilt']\n",
    "#sns.pairplot(df[cols], size = 2.5)\n",
    "#plt.show();\n",
    "\n",
    "#sns.relplot(x='',y='',hue='',data=k)\n",
    "\n",
    "\n",
    "axs[0].hist(new_df['bid_size'],cumulative=True,histtype='step',color='r',linewidth=1,density=True);\n",
    "axs[1].hist(new_df['volume'],histtype='step',linewidth=5);\n",
    "axs[0].set_title('Cummulative bid size');\n",
    "axs[1].set_title('Distribution of Volume');\n",
    "\n",
    "model.summary()\n"
   ]
  },
  {
   "cell_type": "markdown",
   "metadata": {},
   "source": [
    "Skewness and Kurtosis"
   ]
  },
  {
   "cell_type": "code",
   "execution_count": null,
   "metadata": {},
   "outputs": [],
   "source": [
    "#print(\"Skewness: %f\" % df['Features'].skew())\n",
    "#print(\"Kurtosis: %f\" % df_train['Features'].kurt())"
   ]
  },
  {
   "cell_type": "markdown",
   "metadata": {},
   "source": [
    "removing outliers "
   ]
  },
  {
   "cell_type": "code",
   "execution_count": null,
   "metadata": {},
   "outputs": [],
   "source": [
    "#q=df['Feature'].quantile(0.99)\n",
    "#df=df[df['Feature']<q]"
   ]
  },
  {
   "cell_type": "markdown",
   "metadata": {},
   "source": [
    "for dummy variable "
   ]
  },
  {
   "cell_type": "code",
   "execution_count": null,
   "metadata": {},
   "outputs": [],
   "source": [
    "#data_dummy=pd.get_dummies(data_reg,drop_first=True)"
   ]
  },
  {
   "cell_type": "markdown",
   "metadata": {},
   "source": [
    "Use split function "
   ]
  },
  {
   "cell_type": "code",
   "execution_count": null,
   "metadata": {},
   "outputs": [],
   "source": [
    "#d3['bhk']=d3['size'].apply(lambda x: int(x.split(' ')[0]))"
   ]
  }
 ],
 "metadata": {
  "kernelspec": {
   "display_name": "Python 3",
   "language": "python",
   "name": "python3"
  },
  "language_info": {
   "codemirror_mode": {
    "name": "ipython",
    "version": 3
   },
   "file_extension": ".py",
   "mimetype": "text/x-python",
   "name": "python",
   "nbconvert_exporter": "python",
   "pygments_lexer": "ipython3",
   "version": "3.7.7"
  }
 },
 "nbformat": 4,
 "nbformat_minor": 4
}
