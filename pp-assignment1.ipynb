{
 "cells": [
  {
   "cell_type": "code",
   "execution_count": 4,
   "metadata": {},
   "outputs": [],
   "source": [
    "import sqlite3\n",
    "\n",
    "conn = sqlite3.connect(r\"C:\\Users\\Anik Chatterjee\\Desktop\\paperpedia\\pp-assignment1\\sample_db\")\n",
    "\n",
    "cursr = conn.cursor()\n",
    "\n"
   ]
  },
  {
   "cell_type": "code",
   "execution_count": 19,
   "metadata": {},
   "outputs": [
    {
     "ename": "SyntaxError",
     "evalue": "EOL while scanning string literal (<ipython-input-19-7f13138b2c49>, line 1)",
     "output_type": "error",
     "traceback": [
      "\u001b[1;36m  File \u001b[1;32m\"<ipython-input-19-7f13138b2c49>\"\u001b[1;36m, line \u001b[1;32m1\u001b[0m\n\u001b[1;33m    cursr.execute(\"CREATE TABLE emp\u001b[0m\n\u001b[1;37m                                    ^\u001b[0m\n\u001b[1;31mSyntaxError\u001b[0m\u001b[1;31m:\u001b[0m EOL while scanning string literal\n"
     ]
    }
   ],
   "source": [
    "cursr.execute(\"CREATE TABLE emp \n",
    "              (eid int(11) NOT NULL,\n",
    "              ename varchar(32) NOT NULL,\n",
    "              age int(11) NOT NULL,\n",
    "              salary double NOT NULL,\n",
    "              PRIMARY KEY (`eid`)) ENGINE=InnoDB DEFAULT CHARSET=latin1;\")"
   ]
  },
  {
   "cell_type": "code",
   "execution_count": null,
   "metadata": {},
   "outputs": [],
   "source": []
  }
 ],
 "metadata": {
  "kernelspec": {
   "display_name": "Python 3.7 (tensorflow)",
   "language": "python",
   "name": "tensorflow"
  },
  "language_info": {
   "codemirror_mode": {
    "name": "ipython",
    "version": 3
   },
   "file_extension": ".py",
   "mimetype": "text/x-python",
   "name": "python",
   "nbconvert_exporter": "python",
   "pygments_lexer": "ipython3",
   "version": "3.7.7"
  }
 },
 "nbformat": 4,
 "nbformat_minor": 4
}
