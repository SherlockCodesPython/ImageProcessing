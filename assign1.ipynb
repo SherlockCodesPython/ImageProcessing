{
 "cells": [
  {
   "cell_type": "code",
   "execution_count": 1,
   "metadata": {},
   "outputs": [],
   "source": [
    "#import "
   ]
  },
  {
   "cell_type": "code",
   "execution_count": 1,
   "metadata": {},
   "outputs": [
    {
     "name": "stdout",
     "output_type": "stream",
     "text": [
      "Welcome To Our Resturant, please feel to check out our delecious range of breakfast\n",
      "1.Egg\n",
      "2.Bacon\n",
      "3.Sausage\n",
      "4.Hash Brown\n",
      "5.Toast\n",
      "6.Coffee\n",
      "7.Tea\n",
      "8.small_breakfast\n",
      "9.regular_breakfast\n",
      "10.big_breakfast\n",
      "Price  {'Egg': 0.99, 'Bacon': 0.49, 'Sausage': 1.49, 'Hash Brown': 1.19, 'Toast': 0.79, 'Coffee': 1.49, 'Tea': 1.09}\n",
      "Enter your choise:1\n"
     ]
    }
   ],
   "source": [
    "menu = [\"1.Egg\",\"2.Bacon\",\"3.Sausage\",\"4.Hash Brown\",\"5.Toast\",\"6.Coffee\",\"7.Tea\",\"8.small_breakfast\",\"9.regular_breakfast\",\"10.big_breakfast\"]\n",
    "small_breakfast = [\"One Egg\",\"One Hash Brown\",\"Two Toast\", \"Two Bacon Strips\",\"One Sausage\"]\n",
    "regular_breakfast = [\"Two Eggs\", \"One Hash Brown\",\" Two Slices Toast\", \"Four Strips of Bacon\",\" Two Sausages\"]\n",
    "big_breakfast = [\"Three Eggs\",\"Two hash browns\",\"four slices of toast\",\"Six strips of bacon\",\"Three Sausages\"]\n",
    "\n",
    "price = {\n",
    "    \"Egg\": 0.99,\n",
    "    \"Bacon\": 0.49,\n",
    "    \"Sausage\": 1.49,\n",
    "    \"Hash Brown\" : 1.19,\n",
    "    \"Toast\" : 0.79,\n",
    "    \"Coffee\": 1.49,\n",
    "    \"Tea\": 1.09,\n",
    "    #\"small_breakfast\": \n",
    "    #\"regular_breakfast\" : \n",
    "    #\"big_breakfast\":\n",
    "}\n",
    "print(\"Welcome To Our Resturant, please feel to check out our delecious range of breakfast\") \n",
    "  \n",
    "print(*menu, sep = \"\\n\")\n",
    "\n",
    "print(\"Price \", price)\n",
    "\n",
    "#print(\"Enter your choise\")\n",
    "choise = input(\"Enter your choise:\")\n",
    "\n",
    "\n",
    "#print(*small_breakfast, sep = \"\\n\")\n",
    "\n",
    "#print(*regular_breakfast, sep = \"\\n\")\n",
    "\n",
    "#print(*big_breakfast, sep = \"\\n\")"
   ]
  },
  {
   "cell_type": "code",
   "execution_count": 2,
   "metadata": {},
   "outputs": [],
   "source": [
    " \n",
    "print = (\"You have selected \",type(choise))"
   ]
  },
  {
   "cell_type": "code",
   "execution_count": null,
   "metadata": {},
   "outputs": [],
   "source": []
  },
  {
   "cell_type": "code",
   "execution_count": null,
   "metadata": {},
   "outputs": [],
   "source": []
  },
  {
   "cell_type": "code",
   "execution_count": null,
   "metadata": {},
   "outputs": [],
   "source": []
  },
  {
   "cell_type": "code",
   "execution_count": null,
   "metadata": {},
   "outputs": [],
   "source": []
  }
 ],
 "metadata": {
  "kernelspec": {
   "display_name": "Python 3.7 (tensorflow)",
   "language": "python",
   "name": "tensorflow"
  },
  "language_info": {
   "codemirror_mode": {
    "name": "ipython",
    "version": 3
   },
   "file_extension": ".py",
   "mimetype": "text/x-python",
   "name": "python",
   "nbconvert_exporter": "python",
   "pygments_lexer": "ipython3",
   "version": "3.7.7"
  }
 },
 "nbformat": 4,
 "nbformat_minor": 4
}
