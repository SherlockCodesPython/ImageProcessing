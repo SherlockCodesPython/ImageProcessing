{
 "cells": [
  {
   "cell_type": "markdown",
   "metadata": {},
   "source": [
    "    All Basic Python Questions"
   ]
  },
  {
   "cell_type": "markdown",
   "metadata": {},
   "source": [
    "1) Add two numbers (All forms)"
   ]
  },
  {
   "cell_type": "code",
   "execution_count": 37,
   "metadata": {},
   "outputs": [
    {
     "name": "stdout",
     "output_type": "stream",
     "text": [
      "Enter first number5\n",
      "Enter second Number5\n"
     ]
    },
    {
     "data": {
      "text/plain": [
       "10"
      ]
     },
     "execution_count": 37,
     "metadata": {},
     "output_type": "execute_result"
    }
   ],
   "source": [
    "i = 0\n",
    "\n",
    "a= int(input(\"Enter first number\"))\n",
    "b= int(input(\"Enter second Number\"))\n",
    "\n",
    "    \n",
    "c = a+b\n",
    "\n",
    "i = i+1\n",
    "c"
   ]
  },
  {
   "cell_type": "markdown",
   "metadata": {},
   "source": [
    "Max of n numbers"
   ]
  },
  {
   "cell_type": "code",
   "execution_count": 38,
   "metadata": {},
   "outputs": [
    {
     "name": "stdout",
     "output_type": "stream",
     "text": [
      "Enter the size of array10\n",
      "Enter numbers2\n",
      "Enter numbers5\n",
      "Enter numbers6\n",
      "Enter numbers4\n",
      "Enter numbers6\n",
      "Enter numbers58\n",
      "Enter numbers56\n",
      "Enter numbers45\n",
      "Enter numbers56\n",
      "58\n"
     ]
    },
    {
     "data": {
      "text/plain": [
       "[2, 4, 5, 6, 6, 45, 56, 56, 58]"
      ]
     },
     "execution_count": 38,
     "metadata": {},
     "output_type": "execute_result"
    }
   ],
   "source": [
    "arr = []\n",
    "n = int(input(\"Enter the size of array\"))\n",
    "for i in range(i, n):\n",
    "    b = int(input(\"Enter numbers\"))\n",
    "    arr.append(b)\n",
    "    arr.sort()\n",
    "print(arr[-1])\n",
    "arr"
   ]
  },
  {
   "cell_type": "markdown",
   "metadata": {},
   "source": [
    "Factorial of n numbers"
   ]
  },
  {
   "cell_type": "code",
   "execution_count": 2,
   "metadata": {},
   "outputs": [
    {
     "name": "stdout",
     "output_type": "stream",
     "text": [
      "Enter the number5\n",
      "2\n"
     ]
    }
   ],
   "source": [
    "n = int(input(\"Enter the number\"))\n",
    "if n == 0 or n == 1:\n",
    "        print(\"1\")\n",
    "while n>1:\n",
    "    fact = n *(n-1)\n",
    "    n = n-1\n",
    "\n",
    "print(fact)"
   ]
  },
  {
   "cell_type": "code",
   "execution_count": null,
   "metadata": {},
   "outputs": [],
   "source": []
  },
  {
   "cell_type": "code",
   "execution_count": null,
   "metadata": {},
   "outputs": [],
   "source": []
  },
  {
   "cell_type": "code",
   "execution_count": null,
   "metadata": {},
   "outputs": [],
   "source": []
  },
  {
   "cell_type": "code",
   "execution_count": null,
   "metadata": {},
   "outputs": [],
   "source": []
  },
  {
   "cell_type": "code",
   "execution_count": null,
   "metadata": {},
   "outputs": [],
   "source": []
  },
  {
   "cell_type": "markdown",
   "metadata": {},
   "source": [
    "Power using recursion"
   ]
  },
  {
   "cell_type": "code",
   "execution_count": null,
   "metadata": {},
   "outputs": [],
   "source": [
    "a = int(input(\"Enter number\"))\n",
    "i = 0\n",
    "while i == 0:\n",
    "    \n",
    "    print(pow(a,2))\n",
    "    i = i+1\n",
    "    "
   ]
  },
  {
   "cell_type": "markdown",
   "metadata": {},
   "source": [
    "array sorting using input and find 3 highest number"
   ]
  },
  {
   "cell_type": "code",
   "execution_count": 25,
   "metadata": {},
   "outputs": [
    {
     "name": "stdout",
     "output_type": "stream",
     "text": [
      "Enter the number of elements10\n",
      "Enter the number in array10\n",
      "Enter the number in array57\n",
      "Enter the number in array56\n",
      "Enter the number in array59\n",
      "Enter the number in array45\n",
      "Enter the number in array68\n",
      "Enter the number in array25\n",
      "Enter the number in array65\n",
      "Enter the number in array35\n",
      "Enter the number in array85\n",
      "59\n"
     ]
    },
    {
     "data": {
      "text/plain": [
       "[10, 25, 35, 45, 56, 57, 59, 65, 68, 85]"
      ]
     },
     "execution_count": 25,
     "metadata": {},
     "output_type": "execute_result"
    }
   ],
   "source": [
    "arr = []\n",
    "i= 0\n",
    "n = int(input(\"Enter the number of elements\"))\n",
    "for i in range(i, n):\n",
    "    b = int(input(\"Enter the number in array\"))\n",
    "    arr.append(b)\n",
    "    arr.sort()\n",
    "print(arr[-4])# third highest number printed\n",
    "arr\n",
    "    "
   ]
  },
  {
   "cell_type": "markdown",
   "metadata": {},
   "source": [
    "Check if entered number is prime or not"
   ]
  },
  {
   "cell_type": "code",
   "execution_count": null,
   "metadata": {},
   "outputs": [],
   "source": [
    "num = int(input(\"enter the number\",))\n",
    "if num > 1:\n",
    "    for i in range(2, num):\n",
    "        if (num%i == 0):\n",
    "            print(\"Not prime\")\n",
    "            break\n",
    "    else:\n",
    "        print(\"It is a prime number\", num)"
   ]
  },
  {
   "cell_type": "markdown",
   "metadata": {},
   "source": [
    "# No. of Prime numbers in an Array "
   ]
  },
  {
   "cell_type": "code",
   "execution_count": null,
   "metadata": {},
   "outputs": [
    {
     "name": "stdout",
     "output_type": "stream",
     "text": [
      "enter the Size of array10\n",
      "Enter the number in the array1\n",
      "It is a prime nunber\n",
      "Enter the number in the array6\n",
      "It is a prime nunber\n"
     ]
    }
   ],
   "source": [
    "\n",
    "        \n"
   ]
  },
  {
   "cell_type": "code",
   "execution_count": null,
   "metadata": {},
   "outputs": [],
   "source": []
  }
 ],
 "metadata": {
  "kernelspec": {
   "display_name": "Python 3.7 (tensorflow)",
   "language": "python",
   "name": "tensorflow"
  },
  "language_info": {
   "codemirror_mode": {
    "name": "ipython",
    "version": 3
   },
   "file_extension": ".py",
   "mimetype": "text/x-python",
   "name": "python",
   "nbconvert_exporter": "python",
   "pygments_lexer": "ipython3",
   "version": "3.7.7"
  }
 },
 "nbformat": 4,
 "nbformat_minor": 4
}
