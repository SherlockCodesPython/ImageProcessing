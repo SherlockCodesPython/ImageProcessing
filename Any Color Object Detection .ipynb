{
 "cells": [
  {
   "cell_type": "code",
   "execution_count": 6,
   "metadata": {},
   "outputs": [],
   "source": [
    "import cv2 as cv\n",
    "import numpy as np\n",
    "\n",
    "def empty(a):\n",
    "    pass\n",
    "\n",
    "capture_video = cv.VideoCapture(0)\n",
    "\n",
    "\n",
    "cv.namedWindow(\"HSV\")\n",
    "cv.resizeWindow(\"HSV\",640,240)\n",
    "cv.createTrackbar(\"HUE MIN\",\"HSV\",0,179,empty)\n",
    "cv.createTrackbar(\"HUE MAX\",\"HSV\",179,179,empty)\n",
    "cv.createTrackbar(\"SAT MAX\",\"HSV\",0,255,empty)\n",
    "cv.createTrackbar(\"SAT MIN\",\"HSV\",255,255,empty)\n",
    "cv.createTrackbar(\"VALUE MAX\",\"HSV\",0,255,empty)\n",
    "cv.createTrackbar(\"VALUE MIN\",\"HSV\",255,255,empty)\n",
    "\n",
    "while True:\n",
    "    ret,frame = capture_video.read()\n",
    "    hsv_vid = cv.cvtColor(frame,cv.COLOR_BGR2HSV)\n",
    "    \n",
    "    \n",
    "    \n",
    "    h_min = cv.getTrackbarPos(\"HUE MIN\", \"HSV\")\n",
    "    h_max = cv.getTrackbarPos(\"HUE MAX\", \"HSV\")\n",
    "    s_min = cv.getTrackbarPos(\"SAT MAX\", \"HSV\")\n",
    "    s_max = cv.getTrackbarPos(\"SAT MIN\", \"HSV\")\n",
    "    v_min = cv.getTrackbarPos(\"VALUE MAX\", \"HSV\")\n",
    "    v_max = cv.getTrackbarPos(\"VALUE MIN\", \"HSV\")\n",
    "    \n",
    "    hue_min_value = np.array([h_min,s_min,v_min])\n",
    "    hue_max_value = np.array([h_max,s_max,v_max])\n",
    "    #hue min = 0,hue max = 179, sat max =0,sat min = 198, value max = 0,value min 255 #Turn off lights\n",
    "    mask = cv.inRange(hsv_vid, hue_min_value,hue_max_value) \n",
    "    result_vid = cv.bitwise_and(hsv_vid,hsv_vid, mask = mask)\n",
    "    \n",
    "    #Blur the Image:-\n",
    "    bluerd_vid = cv.GaussianBlur(result_vid, (15,15),0)\n",
    "    \n",
    "    cv.imshow(\"frame\", frame)\n",
    "    cv.imshow(\"Mask\", mask)\n",
    "    cv.imshow(\"result_vid\", result_vid)\n",
    "    cv.imshow(\"bluerd_vid\", bluerd_vid)\n",
    "     \n",
    "    if cv.waitKey(100) & 0xFF == ord('q'):\n",
    "        break\n",
    "capture_video.release()\n",
    "cv.destroyAllWindows()\n",
    "    \n",
    "    "
   ]
  },
  {
   "cell_type": "code",
   "execution_count": null,
   "metadata": {},
   "outputs": [],
   "source": []
  },
  {
   "cell_type": "code",
   "execution_count": null,
   "metadata": {},
   "outputs": [],
   "source": []
  },
  {
   "cell_type": "code",
   "execution_count": null,
   "metadata": {},
   "outputs": [],
   "source": []
  }
 ],
 "metadata": {
  "kernelspec": {
   "display_name": "Python 3.7 (tensorflow)",
   "language": "python",
   "name": "tensorflow"
  },
  "language_info": {
   "codemirror_mode": {
    "name": "ipython",
    "version": 3
   },
   "file_extension": ".py",
   "mimetype": "text/x-python",
   "name": "python",
   "nbconvert_exporter": "python",
   "pygments_lexer": "ipython3",
   "version": "3.7.7"
  }
 },
 "nbformat": 4,
 "nbformat_minor": 4
}
